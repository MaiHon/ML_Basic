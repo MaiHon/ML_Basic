{
 "cells": [
  {
   "cell_type": "code",
   "execution_count": 1,
   "metadata": {},
   "outputs": [],
   "source": [
    "import tensorflow as tf\n",
    "import numpy as np"
   ]
  },
  {
   "cell_type": "code",
   "execution_count": 4,
   "metadata": {},
   "outputs": [
    {
     "name": "stdout",
     "output_type": "stream",
     "text": [
      "WARNING:tensorflow:From /Users/mah/miniconda3/lib/python3.7/site-packages/tensorflow/python/framework/op_def_library.py:263: colocate_with (from tensorflow.python.framework.ops) is deprecated and will be removed in a future version.\n",
      "Instructions for updating:\n",
      "Colocations handled automatically by placer.\n"
     ]
    }
   ],
   "source": [
    "x_data = [[1, 2], [2, 3], [3, 1], [4, 3], [5, 3], [6, 2]]\n",
    "y_data = [[0], [0], [0], [1], [1], [1]]\n",
    "\n",
    "# placeholders for a tensor that will be always fed.\n",
    "x = tf.placeholder(tf.float32, shape=[None, 2])\n",
    "y = tf.placeholder(tf.float32, shape=[None, 1])\n",
    "W = tf.Variable(tf.random_normal([2, 1], name = 'weight'))\n",
    "b = tf.Variable(tf.random_normal([1], name = 'bias'))\n",
    "\n",
    "# Hypothesis using sigmoid: tf.div(1., 1. + tf.exp(tf.matmul(x, W) + b))\n",
    "hypothesis = tf.sigmoid(tf.matmul(x, W)+b)\n",
    "\n",
    "# cost/loss function\n",
    "cost = -tf.reduce_mean(y * tf.log(hypothesis) + (1-y) * tf.log(1-hypothesis))\n",
    "\n",
    "train = tf.train.GradientDescentOptimizer(learning_rate=0.01).minimize(cost)\n",
    "\n",
    "# Accuracy computation\n",
    "# True if hypothesis > 0.5 else False\n",
    "predicted = tf.cast(hypothesis > 0.5, dtype = tf.float32)\n",
    "accuracy = tf.reduce_mean(tf.cast(tf.equal(predicted, y), dtype = tf.float32))"
   ]
  },
  {
   "cell_type": "code",
   "execution_count": 5,
   "metadata": {},
   "outputs": [
    {
     "name": "stdout",
     "output_type": "stream",
     "text": [
      "0 0.39857873\n",
      "200 0.379482\n",
      "400 0.36641744\n",
      "600 0.35447454\n",
      "800 0.3433623\n",
      "1000 0.33292025\n",
      "1200 0.32305208\n",
      "1400 0.31369516\n",
      "1600 0.30480483\n",
      "1800 0.2963465\n",
      "2000 0.288291\n",
      "2200 0.2806135\n",
      "2400 0.27329132\n",
      "2600 0.2663037\n",
      "2800 0.25963128\n",
      "3000 0.25325623\n",
      "3200 0.24716164\n",
      "3400 0.24133162\n",
      "3600 0.23575138\n",
      "3800 0.23040698\n",
      "4000 0.2252854\n",
      "4200 0.22037427\n",
      "4400 0.2156621\n",
      "4600 0.21113808\n",
      "4800 0.20679231\n",
      "5000 0.20261513\n",
      "5200 0.19859757\n",
      "5400 0.19473143\n",
      "5600 0.19100876\n",
      "5800 0.18742234\n",
      "6000 0.1839651\n",
      "6200 0.18063073\n",
      "6400 0.17741315\n",
      "6600 0.1743065\n",
      "6800 0.17130543\n",
      "7000 0.16840495\n",
      "7200 0.16560034\n",
      "7400 0.16288704\n",
      "7600 0.16026078\n",
      "7800 0.15771775\n",
      "8000 0.15525407\n",
      "8200 0.15286615\n",
      "8400 0.15055077\n",
      "8600 0.14830476\n",
      "8800 0.14612512\n",
      "9000 0.14400892\n",
      "9200 0.14195363\n",
      "9400 0.13995665\n",
      "9600 0.1380156\n",
      "9800 0.13612817\n",
      "10000 0.13429226\n",
      "\n",
      "Hypothesis:  [[0.02461413]\n",
      " [0.14960766]\n",
      " [0.2740569 ]\n",
      " [0.795834  ]\n",
      " [0.9483154 ]\n",
      " [0.9831404 ]] \n",
      "Correct(Y):  [[0.]\n",
      " [0.]\n",
      " [0.]\n",
      " [1.]\n",
      " [1.]\n",
      " [1.]] \n",
      "Accuracy:  1.0\n"
     ]
    }
   ],
   "source": [
    "# Launch graph\n",
    "with tf.Session() as sess:\n",
    "    # Initialize Tensorflow variables\n",
    "    sess.run(tf.global_variables_initializer())\n",
    "    \n",
    "    for step in range(10001):\n",
    "        cost_val, _ = sess.run([cost ,train], \n",
    "                              feed_dict = {x: x_data, y:y_data})\n",
    "        if step%200 == 0:\n",
    "            print(step, cost_val)\n",
    "    \n",
    "    # Accuracy report\n",
    "    h, c, a = sess.run([hypothesis, predicted, accuracy],\n",
    "                      feed_dict = {x:x_data, y:y_data})\n",
    "    print(\"\\nHypothesis: \", h, \"\\nCorrect(Y): \", c, \"\\nAccuracy: \", a)"
   ]
  },
  {
   "cell_type": "code",
   "execution_count": null,
   "metadata": {},
   "outputs": [],
   "source": []
  }
 ],
 "metadata": {
  "kernelspec": {
   "display_name": "Python 3",
   "language": "python",
   "name": "python3"
  },
  "language_info": {
   "codemirror_mode": {
    "name": "ipython",
    "version": 3
   },
   "file_extension": ".py",
   "mimetype": "text/x-python",
   "name": "python",
   "nbconvert_exporter": "python",
   "pygments_lexer": "ipython3",
   "version": "3.7.3"
  }
 },
 "nbformat": 4,
 "nbformat_minor": 2
}
